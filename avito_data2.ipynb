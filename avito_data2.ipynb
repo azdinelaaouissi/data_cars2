{
  "nbformat": 4,
  "nbformat_minor": 0,
  "metadata": {
    "colab": {
      "provenance": [],
      "authorship_tag": "ABX9TyMD3s2I8+n00ULzFisBvSrM",
      "include_colab_link": true
    },
    "kernelspec": {
      "name": "python3",
      "display_name": "Python 3"
    },
    "language_info": {
      "name": "python"
    }
  },
  "cells": [
    {
      "cell_type": "markdown",
      "metadata": {
        "id": "view-in-github",
        "colab_type": "text"
      },
      "source": [
        "<a href=\"https://colab.research.google.com/github/azdinelaaouissi/data_cars/blob/main/avito_data2.ipynb\" target=\"_parent\"><img src=\"https://colab.research.google.com/assets/colab-badge.svg\" alt=\"Open In Colab\"/></a>"
      ]
    },
    {
      "cell_type": "code",
      "execution_count": 5,
      "metadata": {
        "id": "qwLnpS2gaMFI"
      },
      "outputs": [],
      "source": [
        "import requests\n",
        "from bs4 import BeautifulSoup\n",
        "import csv\n",
        "import  pandas  as  pd\n",
        "import  json\n",
        "import  re\n",
        "import  csv"
      ]
    },
    {
      "cell_type": "code",
      "source": [
        "\n",
        "headers={\n",
        "'User-Agent':'Mozilla/5.0 (Windows NT 10.0; Win64; x64) AppleWebKit/537.36 (KHTML, like Gecko) Chrome/122.0.0.0 Safari/537.36'\n",
        "}\n"
      ],
      "metadata": {
        "id": "-FglhLv3jrPR"
      },
      "execution_count": 6,
      "outputs": []
    },
    {
      "cell_type": "code",
      "source": [
        "def car_info(url):\n",
        "\n",
        "  response=requests.get(url,headers=headers)\n",
        "  response.encoding=response.apparent_encoding\n",
        "  if response.status_code==200:\n",
        "      soup=BeautifulSoup(response.content,\"html.parser\")\n",
        "      script=soup.find(\"script\",id=\"__NEXT_DATA__\").string\n",
        "      if  script:\n",
        "          # Charger le script JSON en tant qu'objet Python\n",
        "        data = json.loads(script)\n",
        "\n",
        "        # Récupérer les paramètres avec les paires clé-valeur (label: value)\n",
        "        params = data['props']['pageProps']['componentProps']['adInfo']['ad']['params']['primary']\n",
        "        secandary=data['props']['pageProps']['componentProps']['adInfo']['ad']['params']['secondary']\n",
        "        prix_c=data['props']['pageProps']['componentProps']['adInfo']['ad']['price']\n",
        "        location=data['props']['pageProps']['componentProps']['adInfo']['ad']['location']\n",
        "        ville=None\n",
        "        if  location:\n",
        "          ville=location[\"city\"][\"name\"]\n",
        "        prix=None\n",
        "        if prix_c:\n",
        "          prix=str(prix_c['value'])+\" DHs\"\n",
        "\n",
        "        # Afficher les paramètres\n",
        "        params.append({\"label\":\"prix\",\"value\":prix})\n",
        "        params.append({\"label\":\"ville\",\"value\":ville})\n",
        "        for  s  in  secandary:\n",
        "          params.append(s)\n",
        "        info_car={\n",
        "            \"marque\":next((param['value'] for param in params if param['label'] == \"Marque\"), None),\n",
        "            \"modele\":next((param['value'] for param in params if param['label'] == \"Modèle\"), None),\n",
        "            \"annee_modele\":next((param['value'] for param in params if param['label'] == \"Année-Modèle\"), None),\n",
        "            \"kilometrage\":next((param['value'] for param in params if param['label'] == \"Kilométrage\"), None),\n",
        "            \"Puissance_fiscale\":next((param['value'] for param in params if param['label'] == \"Puissance fiscale\"), None),\n",
        "            \"carburant\":next((param['value'] for param in params if param['label'] == \"Type de carburant\"), None),\n",
        "            \"ville\":ville,\n",
        "            \"etat\":next((param['value'] for param in params if param['label'] == \"État\"), None),\n",
        "            \"prix\":prix,\n",
        "        }\n",
        "        return  info_car\n",
        "      else:\n",
        "        print(\"Données JSON non trouvées dans le script\")\n",
        "        return  None\n",
        "  else:\n",
        "    print(f\"eroor==>{response.status_code}\")\n",
        "    return  None\n"
      ],
      "metadata": {
        "id": "RfNNVPQFnF78"
      },
      "execution_count": 7,
      "outputs": []
    },
    {
      "cell_type": "code",
      "source": [
        "print(car_info(\"https://www.avito.ma/fr/massira_1/voitures_d'occasion/Renault_Clio_Diesel_Manuelle_2023_à_Marrakech_54533215.htm\"))"
      ],
      "metadata": {
        "colab": {
          "base_uri": "https://localhost:8080/"
        },
        "id": "UmXa5lZanNxw",
        "outputId": "610a7e27-9ff0-4f50-ba4c-f49d3d97b085"
      },
      "execution_count": null,
      "outputs": [
        {
          "output_type": "stream",
          "name": "stdout",
          "text": [
            "{'marque': 'Renault', 'modele': 'Clio', 'annee_modele': '2023', 'kilometrage': '35 000 - 39 999', 'Puissance_fiscale': '6 CV', 'carburant': 'Diesel', 'ville': 'Marrakech', 'etat': 'Excellent', 'prix': '172000 DHs'}\n"
          ]
        }
      ]
    },
    {
      "cell_type": "code",
      "source": [
        "avito_cars=[]\n",
        "for i  in  range(300,400):\n",
        "\n",
        "  url=\"https://www.avito.ma/fr/maroc/voitures_d_occasion-%C3%A0_vendre?o=\"+str(i)\n",
        "  response=requests.get(url,headers=headers )\n",
        "  response.encoding=response.apparent_encoding\n",
        "\n",
        "  if response.status_code==200:\n",
        "\n",
        "\n",
        "    soup=BeautifulSoup(response.content,\"html.parser\")\n",
        "    all_annonces=soup.find(\"div\",class_=\"sc-1nre5ec-1 crKvIr listing\").findAll(\"a\")\n",
        "    for annonce in  all_annonces:\n",
        "      info_data=car_info(annonce.get(\"href\"))\n",
        "      if info_data:\n",
        "        avito_cars.append(info_data)\n",
        "    print(i)\n",
        "  else:\n",
        "    print(f\"error:{response.status_code}\")\n",
        "df=pd.DataFrame(avito_cars)\n",
        "df.to_csv(\"avito_data_cars.csv\",index=False)"
      ],
      "metadata": {
        "id": "23s19jeIkG4W",
        "outputId": "8d8a4e2d-5b7e-4ec0-e7d8-d77e80d9c13e",
        "colab": {
          "base_uri": "https://localhost:8080/"
        }
      },
      "execution_count": 10,
      "outputs": [
        {
          "output_type": "stream",
          "name": "stdout",
          "text": [
            "300\n",
            "301\n",
            "302\n",
            "303\n",
            "304\n",
            "305\n",
            "306\n",
            "307\n",
            "308\n",
            "309\n",
            "310\n",
            "311\n",
            "312\n",
            "313\n",
            "314\n",
            "315\n",
            "316\n",
            "317\n",
            "318\n",
            "319\n",
            "320\n",
            "321\n",
            "322\n",
            "323\n",
            "324\n",
            "325\n",
            "326\n",
            "327\n",
            "328\n",
            "329\n",
            "330\n",
            "331\n",
            "332\n",
            "333\n",
            "334\n",
            "335\n",
            "336\n",
            "337\n",
            "338\n",
            "339\n",
            "340\n",
            "341\n",
            "342\n",
            "343\n",
            "344\n",
            "345\n",
            "346\n",
            "347\n",
            "348\n",
            "349\n",
            "350\n",
            "351\n",
            "352\n",
            "353\n",
            "354\n",
            "355\n",
            "356\n",
            "357\n",
            "358\n",
            "359\n",
            "360\n",
            "361\n",
            "362\n",
            "363\n",
            "364\n",
            "365\n",
            "366\n",
            "367\n",
            "368\n",
            "369\n",
            "370\n",
            "371\n",
            "372\n",
            "373\n",
            "374\n",
            "375\n",
            "376\n",
            "377\n",
            "378\n",
            "379\n",
            "380\n",
            "381\n",
            "382\n",
            "383\n",
            "384\n",
            "385\n",
            "386\n",
            "387\n",
            "388\n",
            "389\n",
            "390\n",
            "391\n",
            "392\n",
            "393\n",
            "394\n",
            "395\n",
            "396\n",
            "397\n",
            "398\n",
            "399\n"
          ]
        }
      ]
    },
    {
      "cell_type": "code",
      "source": [
        "df.shape"
      ],
      "metadata": {
        "colab": {
          "base_uri": "https://localhost:8080/"
        },
        "id": "SMx50o1CkntO",
        "outputId": "c3f6b5bf-0d3b-4b83-fe97-06c403a997be"
      },
      "execution_count": 9,
      "outputs": [
        {
          "output_type": "execute_result",
          "data": {
            "text/plain": [
              "(3464, 9)"
            ]
          },
          "metadata": {},
          "execution_count": 9
        }
      ]
    },
    {
      "cell_type": "code",
      "source": [
        "df.head()"
      ],
      "metadata": {
        "id": "Eb20ACyhLAsW"
      },
      "execution_count": null,
      "outputs": []
    },
    {
      "cell_type": "code",
      "source": [],
      "metadata": {
        "id": "Deqlwu3YLP4y"
      },
      "execution_count": null,
      "outputs": []
    }
  ]
}